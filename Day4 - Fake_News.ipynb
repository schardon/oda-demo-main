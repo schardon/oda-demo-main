{
  "cells": [
    {
      "cell_type": "markdown",
      "metadata": {
        "id": "view-in-github",
        "colab_type": "text"
      },
      "source": [
        "<a href=\"https://colab.research.google.com/github/schardon/oda-demo-main/blob/main/Day4%20-%20Fake_News.ipynb\" target=\"_parent\"><img src=\"https://colab.research.google.com/assets/colab-badge.svg\" alt=\"Open In Colab\"/></a>"
      ]
    },
    {
      "cell_type": "code",
      "execution_count": null,
      "metadata": {
        "id": "xYIejsL7Ccvs"
      },
      "outputs": [],
      "source": [
        "import pandas as pd\n",
        "\n",
        "columns = [\n",
        "    \"text\",\n",
        "    \"language\",\n",
        "    \"thread_title\",\n",
        "    \"spam_score\",\n",
        "    \"replies_count\",\n",
        "    \"participants_count\",\n",
        "    \"likes\",\n",
        "    \"comments\",\n",
        "    \"shares\",\n",
        "    \"type\",\n",
        "]\n",
        "df = pd.read_csv(\"fake_news_dataset.csv\", usecols=columns)"
      ]
    },
    {
      "cell_type": "code",
      "execution_count": null,
      "metadata": {
        "id": "d_KWs-UPCcvt",
        "outputId": "66410cb2-0c9f-44d3-ad4d-ef502b4616dc"
      },
      "outputs": [
        {
          "data": {
            "text/html": [
              "<div>\n",
              "<style scoped>\n",
              "    .dataframe tbody tr th:only-of-type {\n",
              "        vertical-align: middle;\n",
              "    }\n",
              "\n",
              "    .dataframe tbody tr th {\n",
              "        vertical-align: top;\n",
              "    }\n",
              "\n",
              "    .dataframe thead th {\n",
              "        text-align: right;\n",
              "    }\n",
              "</style>\n",
              "<table border=\"1\" class=\"dataframe\">\n",
              "  <thead>\n",
              "    <tr style=\"text-align: right;\">\n",
              "      <th></th>\n",
              "      <th>text</th>\n",
              "      <th>language</th>\n",
              "      <th>thread_title</th>\n",
              "      <th>spam_score</th>\n",
              "      <th>replies_count</th>\n",
              "      <th>participants_count</th>\n",
              "      <th>likes</th>\n",
              "      <th>comments</th>\n",
              "      <th>shares</th>\n",
              "      <th>type</th>\n",
              "    </tr>\n",
              "  </thead>\n",
              "  <tbody>\n",
              "    <tr>\n",
              "      <th>0</th>\n",
              "      <td>Print They should pay all the back all the mon...</td>\n",
              "      <td>english</td>\n",
              "      <td>Muslims BUSTED: They Stole Millions In Gov’t B...</td>\n",
              "      <td>0.000</td>\n",
              "      <td>0</td>\n",
              "      <td>1</td>\n",
              "      <td>0</td>\n",
              "      <td>0</td>\n",
              "      <td>0</td>\n",
              "      <td>bias</td>\n",
              "    </tr>\n",
              "    <tr>\n",
              "      <th>1</th>\n",
              "      <td>Why Did Attorney General Loretta Lynch Plead T...</td>\n",
              "      <td>english</td>\n",
              "      <td>Re: Why Did Attorney General Loretta Lynch Ple...</td>\n",
              "      <td>0.000</td>\n",
              "      <td>0</td>\n",
              "      <td>1</td>\n",
              "      <td>0</td>\n",
              "      <td>0</td>\n",
              "      <td>0</td>\n",
              "      <td>bias</td>\n",
              "    </tr>\n",
              "    <tr>\n",
              "      <th>2</th>\n",
              "      <td>Red State : \\nFox News Sunday reported this mo...</td>\n",
              "      <td>english</td>\n",
              "      <td>BREAKING: Weiner Cooperating With FBI On Hilla...</td>\n",
              "      <td>0.000</td>\n",
              "      <td>0</td>\n",
              "      <td>1</td>\n",
              "      <td>0</td>\n",
              "      <td>0</td>\n",
              "      <td>0</td>\n",
              "      <td>bias</td>\n",
              "    </tr>\n",
              "    <tr>\n",
              "      <th>3</th>\n",
              "      <td>Email Kayla Mueller was a prisoner and torture...</td>\n",
              "      <td>english</td>\n",
              "      <td>PIN DROP SPEECH BY FATHER OF DAUGHTER Kidnappe...</td>\n",
              "      <td>0.068</td>\n",
              "      <td>0</td>\n",
              "      <td>0</td>\n",
              "      <td>0</td>\n",
              "      <td>0</td>\n",
              "      <td>0</td>\n",
              "      <td>bias</td>\n",
              "    </tr>\n",
              "    <tr>\n",
              "      <th>4</th>\n",
              "      <td>Email HEALTHCARE REFORM TO MAKE AMERICA GREAT ...</td>\n",
              "      <td>english</td>\n",
              "      <td>FANTASTIC! TRUMP'S 7 POINT PLAN To Reform Heal...</td>\n",
              "      <td>0.865</td>\n",
              "      <td>0</td>\n",
              "      <td>0</td>\n",
              "      <td>0</td>\n",
              "      <td>0</td>\n",
              "      <td>0</td>\n",
              "      <td>bias</td>\n",
              "    </tr>\n",
              "  </tbody>\n",
              "</table>\n",
              "</div>"
            ],
            "text/plain": [
              "                                                text language  \\\n",
              "0  Print They should pay all the back all the mon...  english   \n",
              "1  Why Did Attorney General Loretta Lynch Plead T...  english   \n",
              "2  Red State : \\nFox News Sunday reported this mo...  english   \n",
              "3  Email Kayla Mueller was a prisoner and torture...  english   \n",
              "4  Email HEALTHCARE REFORM TO MAKE AMERICA GREAT ...  english   \n",
              "\n",
              "                                        thread_title  spam_score  \\\n",
              "0  Muslims BUSTED: They Stole Millions In Gov’t B...       0.000   \n",
              "1  Re: Why Did Attorney General Loretta Lynch Ple...       0.000   \n",
              "2  BREAKING: Weiner Cooperating With FBI On Hilla...       0.000   \n",
              "3  PIN DROP SPEECH BY FATHER OF DAUGHTER Kidnappe...       0.068   \n",
              "4  FANTASTIC! TRUMP'S 7 POINT PLAN To Reform Heal...       0.865   \n",
              "\n",
              "   replies_count  participants_count  likes  comments  shares  type  \n",
              "0              0                   1      0         0       0  bias  \n",
              "1              0                   1      0         0       0  bias  \n",
              "2              0                   1      0         0       0  bias  \n",
              "3              0                   0      0         0       0  bias  \n",
              "4              0                   0      0         0       0  bias  "
            ]
          },
          "execution_count": 21,
          "metadata": {},
          "output_type": "execute_result"
        }
      ],
      "source": [
        "df.head()"
      ]
    },
    {
      "cell_type": "code",
      "execution_count": null,
      "metadata": {
        "id": "taL8IX2ACcvu"
      },
      "outputs": [],
      "source": [
        "df = df[df[\"language\"] == \"english\"]\n",
        "df = df.dropna()"
      ]
    },
    {
      "cell_type": "code",
      "execution_count": null,
      "metadata": {
        "id": "VS9VL4B4Ccvu"
      },
      "outputs": [],
      "source": [
        "df = df.drop(\"language\", axis=1)"
      ]
    },
    {
      "cell_type": "code",
      "execution_count": null,
      "metadata": {
        "id": "KQYvP3-ECcvu"
      },
      "outputs": [],
      "source": [
        "features = 0\n",
        "feature_map = {}\n",
        "\n",
        "\n",
        "def add_feature(name):\n",
        "    \"\"\"Adds a feature to the dictionary of features.\"\"\"\n",
        "    if name not in feature_map:\n",
        "        global features\n",
        "        feature_map[name] = features\n",
        "        features += 1\n",
        "\n",
        "\n",
        "add_feature(\"fake\")\n",
        "add_feature(\"real\")"
      ]
    },
    {
      "cell_type": "code",
      "execution_count": null,
      "metadata": {
        "id": "auv2Rz-3Ccvv"
      },
      "outputs": [],
      "source": [
        "def article_type(row):\n",
        "    \"\"\"Binarizes target into fake or real.\"\"\"\n",
        "    if row[\"type\"] == \"fake\":\n",
        "        return feature_map[\"fake\"]\n",
        "    else:\n",
        "        return feature_map[\"real\"]"
      ]
    },
    {
      "cell_type": "code",
      "execution_count": null,
      "metadata": {
        "id": "PJCOqqE6Ccvv"
      },
      "outputs": [],
      "source": [
        "df[\"type\"] = df.apply(article_type, axis=1)"
      ]
    },
    {
      "cell_type": "code",
      "execution_count": null,
      "metadata": {
        "id": "VhpJ0RWkCcvv"
      },
      "outputs": [],
      "source": [
        "from sklearn.model_selection import train_test_split\n",
        "\n",
        "df_train, df_test = train_test_split(df)"
      ]
    },
    {
      "cell_type": "code",
      "execution_count": null,
      "metadata": {
        "id": "LePk63-3Ccvv"
      },
      "outputs": [],
      "source": [
        "from sklearn.feature_extraction.text import TfidfVectorizer\n",
        "\n",
        "vectorizer_text = TfidfVectorizer()\n",
        "vectorizer_title = TfidfVectorizer()"
      ]
    },
    {
      "cell_type": "code",
      "execution_count": null,
      "metadata": {
        "id": "u0b_-LZlCcvv"
      },
      "outputs": [],
      "source": [
        "vectorized_text = vectorizer_text.fit_transform(df_train.pop(\"text\").values)"
      ]
    },
    {
      "cell_type": "code",
      "execution_count": null,
      "metadata": {
        "id": "XftYjJc9Ccvv"
      },
      "outputs": [],
      "source": [
        "vectorized_title = vectorizer_title.fit_transform(df_train.pop(\"thread_title\").values)"
      ]
    },
    {
      "cell_type": "code",
      "execution_count": null,
      "metadata": {
        "id": "q_z7f9RFCcvv"
      },
      "outputs": [],
      "source": [
        "from scipy import sparse\n",
        "\n",
        "spam_score_train = sparse.csr_matrix(df_train[\"spam_score\"].values).transpose()\n",
        "replies_count_train = sparse.csr_matrix(df_train[\"replies_count\"].values).transpose()\n",
        "participants_count_train = sparse.csr_matrix(\n",
        "    df_train[\"participants_count\"].values\n",
        ").transpose()\n",
        "likes_train = sparse.csr_matrix(df_train[\"likes\"].values).transpose()\n",
        "comments_train = sparse.csr_matrix(df_train[\"comments\"].values).transpose()\n",
        "shares_train = sparse.csr_matrix(df_train[\"shares\"].values).transpose()"
      ]
    },
    {
      "cell_type": "code",
      "execution_count": null,
      "metadata": {
        "id": "GB4c9nz8Ccvw"
      },
      "outputs": [],
      "source": [
        "from scipy.sparse import hstack\n",
        "\n",
        "X_train = hstack(\n",
        "    [\n",
        "        vectorized_text,\n",
        "        vectorized_title,\n",
        "        spam_score_train,\n",
        "        replies_count_train,\n",
        "        participants_count_train,\n",
        "        likes_train,\n",
        "        comments_train,\n",
        "        shares_train,\n",
        "    ]\n",
        ")\n",
        "y_train = df_train.pop(\"type\").values"
      ]
    },
    {
      "cell_type": "code",
      "execution_count": null,
      "metadata": {
        "id": "VwXMNjl3Ccvw"
      },
      "outputs": [],
      "source": [
        "from sklearn.ensemble import RandomForestClassifier\n",
        "\n",
        "clf = RandomForestClassifier()"
      ]
    },
    {
      "cell_type": "code",
      "execution_count": null,
      "metadata": {
        "id": "c-qil3njCcvw",
        "outputId": "901d3ad7-9ac7-42ea-b09c-711b5123c1e9"
      },
      "outputs": [
        {
          "data": {
            "text/plain": [
              "RandomForestClassifier()"
            ]
          },
          "execution_count": 34,
          "metadata": {},
          "output_type": "execute_result"
        }
      ],
      "source": [
        "clf.fit(X_train, y_train)"
      ]
    },
    {
      "cell_type": "code",
      "execution_count": null,
      "metadata": {
        "id": "lWt_86pxCcvw"
      },
      "outputs": [],
      "source": [
        "vectorized_text_test = vectorizer_text.transform(df_test.pop(\"text\").values)\n",
        "vectorized_title_test = vectorizer_title.transform(df_test.pop(\"thread_title\").values)"
      ]
    },
    {
      "cell_type": "code",
      "execution_count": null,
      "metadata": {
        "id": "CbV2ptZ6Ccvw"
      },
      "outputs": [],
      "source": [
        "spam_score_test = sparse.csr_matrix(df_test[\"spam_score\"].values).transpose()\n",
        "replies_count_test = sparse.csr_matrix(df_test[\"replies_count\"].values).transpose()\n",
        "participants_count_test = sparse.csr_matrix(\n",
        "    df_test[\"participants_count\"].values\n",
        ").transpose()\n",
        "likes_test = sparse.csr_matrix(df_test[\"likes\"].values).transpose()\n",
        "comments_test = sparse.csr_matrix(df_test[\"comments\"].values).transpose()\n",
        "shares_test = sparse.csr_matrix(df_test[\"shares\"].values).transpose()"
      ]
    },
    {
      "cell_type": "code",
      "execution_count": null,
      "metadata": {
        "id": "sPJZs22pCcvw"
      },
      "outputs": [],
      "source": [
        "X_test = hstack(\n",
        "    [\n",
        "        vectorized_text_test,\n",
        "        vectorized_title_test,\n",
        "        spam_score_test,\n",
        "        replies_count_test,\n",
        "        participants_count_test,\n",
        "        likes_test,\n",
        "        comments_test,\n",
        "        shares_test,\n",
        "    ]\n",
        ")\n",
        "y_test = df_test.pop(\"type\").values"
      ]
    },
    {
      "cell_type": "code",
      "execution_count": null,
      "metadata": {
        "id": "je8vyaIyCcvw",
        "outputId": "e28c39f8-a7cd-4ae2-e088-29b4dfd7e0f8"
      },
      "outputs": [
        {
          "data": {
            "text/plain": [
              "0.9983803045027535"
            ]
          },
          "execution_count": 38,
          "metadata": {},
          "output_type": "execute_result"
        }
      ],
      "source": [
        "clf.score(X_test, y_test)"
      ]
    },
    {
      "cell_type": "code",
      "execution_count": null,
      "metadata": {
        "id": "e5kE4ESeCcvw"
      },
      "outputs": [],
      "source": []
    },
    {
      "cell_type": "code",
      "execution_count": null,
      "metadata": {
        "id": "s8rqyuvOCcvw"
      },
      "outputs": [],
      "source": []
    }
  ],
  "metadata": {
    "kernelspec": {
      "display_name": "Python 3",
      "language": "python",
      "name": "python3"
    },
    "language_info": {
      "codemirror_mode": {
        "name": "ipython",
        "version": 3
      },
      "file_extension": ".py",
      "mimetype": "text/x-python",
      "name": "python",
      "nbconvert_exporter": "python",
      "pygments_lexer": "ipython3",
      "version": "3.9.12"
    },
    "colab": {
      "provenance": [],
      "include_colab_link": true
    }
  },
  "nbformat": 4,
  "nbformat_minor": 0
}